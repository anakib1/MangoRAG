{
 "cells": [
  {
   "cell_type": "code",
   "outputs": [],
   "source": [
    "from src import data"
   ],
   "metadata": {
    "collapsed": false,
    "ExecuteTime": {
     "end_time": "2024-03-15T12:23:22.294328Z",
     "start_time": "2024-03-15T12:23:20.246946Z"
    }
   },
   "id": "76b979a543a98f73",
   "execution_count": 1
  },
  {
   "cell_type": "code",
   "outputs": [],
   "source": [
    "dataset = data.SynthDataset(data.FileThemeProvider('/Users/sviatoslavbidzilia/PycharmProjects/MangoRAG/src/cfg/themes.txt'), data.DummyDialogueProvider(), data.DummyTTSProvider(), generate_audio=False)"
   ],
   "metadata": {
    "collapsed": false,
    "ExecuteTime": {
     "end_time": "2024-03-15T12:23:22.294910Z",
     "start_time": "2024-03-15T12:23:22.279661Z"
    }
   },
   "id": "8c53e415a2354090",
   "execution_count": 2
  },
  {
   "cell_type": "code",
   "outputs": [],
   "source": [
    "examples = dataset.batch_generate(8)"
   ],
   "metadata": {
    "collapsed": false,
    "ExecuteTime": {
     "end_time": "2024-03-15T12:23:22.295114Z",
     "start_time": "2024-03-15T12:23:22.281713Z"
    }
   },
   "id": "945794aad95b4213",
   "execution_count": 3
  },
  {
   "cell_type": "code",
   "outputs": [],
   "source": [
    "pattern = r'(?:\\[\\]|\\[\\s*?{.*?}\\s*\\])'\n",
    "import regex as re \n",
    "\n",
    "text = \"\"\"\n",
    "<bos>Generate dialogue with two people - Bob and Alice. They should discuss the following theme: ethics of intelligence agencies surveillance. The dialogue should contain at least 4 utterances from each speaker. Please generate the dialogue in the following list json format:[[\n",
    "                                   {\"speaker\": ... \n",
    "                                   \"phrase\" : ...\n",
    "                                   },\n",
    "                                   {\"speaker\": ...\n",
    "                                   \"phrase\" : ...\n",
    "                                   }\n",
    "                                   ...\n",
    "                                   ]]\n",
    "                                   You must return **ONLY** json format.\n",
    "                                   ]\n",
    "\n",
    "[\n",
    "{\n",
    "\"speaker\": \"Bob\",\n",
    "\"phrase\": \"I believe that intelligence agencies should have the power to surveil people, but only when there is a legitimate need.\"\n",
    "},\n",
    "{\n",
    "\"speaker\": \"Alice\",\n",
    "\"phrase\": \"I think that intelligence agencies should not have the power to surveil people at all. It is a violation of privacy.\"\n",
    "},\n",
    "{\n",
    "\"speaker\": \"Bob\",\n",
    "\"phrase\": \"But Alice, you have to understand that intelligence agencies are not always acting maliciously. They are trying to protect their country.\"\n",
    "},\n",
    "{\n",
    "\"speaker\": \"Alice\",\n",
    "\"phrase\": \"I understand that, but I still don't think that it is right. It is a slippery slope, and it could lead to a lot of abuse.\"\n",
    "},\n",
    "{\n",
    "\"speaker\": \"Bob\",\n",
    "\"phrase\": \"I see your point, but I still believe that the benefits of intelligence agencies outweigh the risks. We need to strike a balance between privacy and security.\"\n",
    "},\n",
    "{\n",
    "\"speaker\": \"Alice\",\n",
    "\"phrase\": \"I understand your point, but I still think that we should be cautious. We need to make sure that intelligence agencies are not using their power to target innocent people.\"\n",
    "}\n",
    "]\n",
    "```\n",
    "\n",
    "Sure, here is the dialogue:\n",
    "\n",
    "[\n",
    "{\n",
    "\"speaker\": \"Bob\",\n",
    "\"phrase\": \"I believe that intelligence agencies should have the power to surveil people, but only when there is a legitimate need.\"\n",
    "},\n",
    "{\n",
    "\"speaker\": \"Alice\",\n",
    "\"phrase\": \"I think that intelligence agencies should not have the power to surveil people at all. It is a violation of privacy.\"\n",
    "},\n",
    "{\n",
    "\"speaker\": \"Bob\",\n",
    "\"phrase\": \"But Alice, you have to understand that intelligence agencies are not always acting maliciously. They are trying to protect their country.\"\n",
    "},\n",
    "{\n",
    "\"speaker\": \"Alice\",\n",
    "\"phrase\": \"I understand that, but I still don't think that it is right. It is a slippery slope, and it could lead to a lot of abuse.\"\n",
    "},\n",
    "{\n",
    "\"speaker\": \"Bob\",\n",
    "\"phrase\": \"I see your point, but I still believe that the benefits of intelligence agencies outweigh the risks. We need to strike a balance between privacy and security.\"\n",
    "},\n",
    "{\n",
    "\"speaker\": \"Alice\",\n",
    "\"phrase\": \"I understand your point, but I still think that we should be cautious. We need to make sure that intelligence agencies are not using their power to target innocent people.\"\n",
    "}\n",
    "]<eos><pad><pad><pad><pad><pad><pad><pad><pad><pad><pad>\n",
    "\"\"\"\n",
    "matches = re.findall(pattern, text, re.DOTALL)"
   ],
   "metadata": {
    "collapsed": false,
    "ExecuteTime": {
     "end_time": "2024-03-15T11:27:56.639182Z",
     "start_time": "2024-03-15T11:27:56.503988Z"
    }
   },
   "id": "bff3b2b17e6fafc5",
   "execution_count": 15
  },
  {
   "cell_type": "code",
   "outputs": [
    {
     "data": {
      "text/plain": "'[\\n                                   {\"speaker\": ... \\n                                   \"phrase\" : ...\\n                                   },\\n                                   {\"speaker\": ...\\n                                   \"phrase\" : ...\\n                                   }\\n                                   ...\\n                                   ]]\\n                                   You must return **ONLY** json format.\\n                                   ]\\n\\n[\\n{\\n\"speaker\": \"Bob\",\\n\"phrase\": \"I believe that intelligence agencies should have the power to surveil people, but only when there is a legitimate need.\"\\n},\\n{\\n\"speaker\": \"Alice\",\\n\"phrase\": \"I think that intelligence agencies should not have the power to surveil people at all. It is a violation of privacy.\"\\n},\\n{\\n\"speaker\": \"Bob\",\\n\"phrase\": \"But Alice, you have to understand that intelligence agencies are not always acting maliciously. They are trying to protect their country.\"\\n},\\n{\\n\"speaker\": \"Alice\",\\n\"phrase\": \"I understand that, but I still don\\'t think that it is right. It is a slippery slope, and it could lead to a lot of abuse.\"\\n},\\n{\\n\"speaker\": \"Bob\",\\n\"phrase\": \"I see your point, but I still believe that the benefits of intelligence agencies outweigh the risks. We need to strike a balance between privacy and security.\"\\n},\\n{\\n\"speaker\": \"Alice\",\\n\"phrase\": \"I understand your point, but I still think that we should be cautious. We need to make sure that intelligence agencies are not using their power to target innocent people.\"\\n}\\n]'"
     },
     "execution_count": 20,
     "metadata": {},
     "output_type": "execute_result"
    }
   ],
   "source": [
    "matches[0]"
   ],
   "metadata": {
    "collapsed": false,
    "ExecuteTime": {
     "end_time": "2024-03-15T11:28:25.619982Z",
     "start_time": "2024-03-15T11:28:25.570632Z"
    }
   },
   "id": "646a854733c574fa",
   "execution_count": 20
  },
  {
   "cell_type": "code",
   "outputs": [],
   "source": [],
   "metadata": {
    "collapsed": false
   },
   "id": "517a87596480a2c3"
  }
 ],
 "metadata": {
  "kernelspec": {
   "display_name": "Python 3",
   "language": "python",
   "name": "python3"
  },
  "language_info": {
   "codemirror_mode": {
    "name": "ipython",
    "version": 2
   },
   "file_extension": ".py",
   "mimetype": "text/x-python",
   "name": "python",
   "nbconvert_exporter": "python",
   "pygments_lexer": "ipython2",
   "version": "2.7.6"
  }
 },
 "nbformat": 4,
 "nbformat_minor": 5
}
