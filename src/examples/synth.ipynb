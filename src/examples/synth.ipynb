{
 "cells": [
  {
   "cell_type": "code",
   "execution_count": 1,
   "id": "initial_id",
   "metadata": {
    "collapsed": true,
    "ExecuteTime": {
     "end_time": "2024-03-12T12:11:45.804947Z",
     "start_time": "2024-03-12T12:11:45.735947Z"
    }
   },
   "outputs": [],
   "source": [
    "import numpy as np\n",
    "\n",
    "from src import data"
   ]
  },
  {
   "cell_type": "code",
   "outputs": [],
   "source": [
    "dataset = data.SynthDataset(data.InMemoryThemeProvider(['dogs', 'cats', 'discussion']),\n",
    "                            data.DummyDialogueProvider(), data.DummyTTS())"
   ],
   "metadata": {
    "collapsed": false,
    "ExecuteTime": {
     "end_time": "2024-03-12T12:11:45.947967Z",
     "start_time": "2024-03-12T12:11:45.932006Z"
    }
   },
   "id": "fb8151d891057102",
   "execution_count": 2
  },
  {
   "cell_type": "code",
   "outputs": [
    {
     "data": {
      "text/plain": "SynthExample(audio=array([-1.07902673,  1.1316749 , -1.5453213 , ...,  0.        ,\n        0.        ,  0.        ]), theme='cats', dialogue=[('Alice', 'Hello!, how are you'), ('Bob', 'Hello, I am fine, what about you?'), ('Alice', 'I am sick.')])"
     },
     "execution_count": 3,
     "metadata": {},
     "output_type": "execute_result"
    }
   ],
   "source": [
    "dataset.generate()"
   ],
   "metadata": {
    "collapsed": false,
    "ExecuteTime": {
     "end_time": "2024-03-12T12:11:46.036939Z",
     "start_time": "2024-03-12T12:11:46.025094Z"
    }
   },
   "id": "2a80a9c9145e2ab4",
   "execution_count": 3
  },
  {
   "cell_type": "code",
   "outputs": [],
   "source": [],
   "metadata": {
    "collapsed": false,
    "ExecuteTime": {
     "end_time": "2024-03-12T12:11:43.529138Z",
     "start_time": "2024-03-12T12:11:43.516701Z"
    }
   },
   "id": "f5c58bc1a5bcd2d6"
  }
 ],
 "metadata": {
  "kernelspec": {
   "display_name": "Python 3",
   "language": "python",
   "name": "python3"
  },
  "language_info": {
   "codemirror_mode": {
    "name": "ipython",
    "version": 2
   },
   "file_extension": ".py",
   "mimetype": "text/x-python",
   "name": "python",
   "nbconvert_exporter": "python",
   "pygments_lexer": "ipython2",
   "version": "2.7.6"
  }
 },
 "nbformat": 4,
 "nbformat_minor": 5
}
